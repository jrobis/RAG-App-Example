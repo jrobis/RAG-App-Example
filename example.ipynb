{
 "cells": [
  {
   "cell_type": "markdown",
   "metadata": {},
   "source": [
    "## Import Libraries"
   ]
  },
  {
   "cell_type": "code",
   "execution_count": 1,
   "metadata": {},
   "outputs": [
    {
     "name": "stderr",
     "output_type": "stream",
     "text": [
      "/home/paperspace/Repos/RAG-App-Example/.venv/lib/python3.11/site-packages/tqdm/auto.py:21: TqdmWarning: IProgress not found. Please update jupyter and ipywidgets. See https://ipywidgets.readthedocs.io/en/stable/user_install.html\n",
      "  from .autonotebook import tqdm as notebook_tqdm\n"
     ]
    }
   ],
   "source": [
    "import torch\n",
    "from transformers import BitsAndBytesConfig\n",
    "from llama_index import VectorStoreIndex, StorageContext, Document, ServiceContext, PromptTemplate\n",
    "from llama_index.prompts import PromptTemplate\n",
    "from llama_index.llms import HuggingFaceLLM\n",
    "from llama_index.vector_stores import PineconeVectorStore\n",
    "from pinecone import Pinecone, PodSpec\n",
    "from datasets import load_dataset\n",
    "import os\n",
    "import random"
   ]
  },
  {
   "cell_type": "markdown",
   "metadata": {},
   "source": [
    "## Create Hugging Face LLM"
   ]
  },
  {
   "cell_type": "code",
   "execution_count": 2,
   "metadata": {},
   "outputs": [],
   "source": [
    "quantization_config = BitsAndBytesConfig(\n",
    "    load_in_4bit=True,\n",
    "    bnb_4bit_compute_dtype=torch.float16,\n",
    "    bnb_4bit_quant_type=\"nf4\",\n",
    "    bnb_4bit_use_double_quant=True,\n",
    ")"
   ]
  },
  {
   "cell_type": "code",
   "execution_count": 3,
   "metadata": {},
   "outputs": [],
   "source": [
    "def messages_to_prompt(messages):\n",
    "  prompt = \"\"\n",
    "  for message in messages:\n",
    "    if message.role == 'system':\n",
    "      prompt += f\"<|system|>\\n{message.content}\\n\"\n",
    "    elif message.role == 'user':\n",
    "      prompt += f\"<|user|>\\n{message.content}\\n\"\n",
    "    elif message.role == 'assistant':\n",
    "      prompt += f\"<|assistant|>\\n{message.content}\\n\"\n",
    "# ensure we start with a system prompt, insert blank if needed\n",
    "  if not prompt.startswith(\"<|system|>\\n\"):\n",
    "    prompt = \"<|system|>\\n\\n\" + prompt\n",
    "\n",
    "  # add final assistant prompt\n",
    "  prompt = prompt + \"<|assistant|>\\n\"\n",
    "\n",
    "  return prompt"
   ]
  },
  {
   "cell_type": "code",
   "execution_count": 4,
   "metadata": {},
   "outputs": [
    {
     "name": "stderr",
     "output_type": "stream",
     "text": [
      "Loading checkpoint shards: 100%|██████████| 2/2 [00:05<00:00,  2.62s/it]\n"
     ]
    }
   ],
   "source": [
    "llm = HuggingFaceLLM(\n",
    "    model_name=\"meta-llama/Llama-2-7b-chat-hf\",\n",
    "    tokenizer_name=\"meta-llama/Llama-2-7b-chat-hf\",\n",
    "    query_wrapper_prompt=PromptTemplate(\"<|system|>\\n\\n<|user|>\\n{query_str}\\n<|assistant|>\\n\"),\n",
    "    context_window=3900,\n",
    "    max_new_tokens=256,\n",
    "    model_kwargs={\"quantization_config\": quantization_config},\n",
    "    generate_kwargs={\"temperature\": 0.3, \"top_k\": 50, \"top_p\": 0.95},\n",
    "    messages_to_prompt=messages_to_prompt,\n",
    "    device_map=\"auto\",\n",
    ")"
   ]
  },
  {
   "cell_type": "markdown",
   "metadata": {},
   "source": [
    "## Create Pinecone VectorDB Index"
   ]
  },
  {
   "cell_type": "code",
   "execution_count": 5,
   "metadata": {},
   "outputs": [],
   "source": [
    "os.environ['PINECONE_API_KEY'] = 'ad2c4c6e-833e-4ef5-b9b1-eeca2b976564'"
   ]
  },
  {
   "cell_type": "code",
   "execution_count": 6,
   "metadata": {},
   "outputs": [
    {
     "name": "stdout",
     "output_type": "stream",
     "text": [
      "Index already exists\n"
     ]
    }
   ],
   "source": [
    "pc = Pinecone(\n",
    "    api_key = os.getenv('PINECONE_API_KEY')\n",
    "    )\n",
    "\n",
    "try:\n",
    "    pc.create_index(\n",
    "        name='my-index',\n",
    "        dimension=1024,\n",
    "        metric='euclidean',\n",
    "        spec=PodSpec(\n",
    "            replicas= 1, \n",
    "            shards= 1, \n",
    "            pod_type=\"p1\",\n",
    "            environment='gcp-starter'\n",
    "        )        \n",
    "    )\n",
    "    print('Index created')\n",
    "except:\n",
    "    print('Index already exists')\n",
    "\n",
    "pinecone_index = pc.Index(\"my-index\")"
   ]
  },
  {
   "cell_type": "markdown",
   "metadata": {},
   "source": [
    "### Load Dataset"
   ]
  },
  {
   "cell_type": "code",
   "execution_count": 7,
   "metadata": {},
   "outputs": [],
   "source": [
    "dataset = load_dataset(\"neural-bridge/rag-dataset-12000\")\n",
    "\n",
    "questions = dataset['train']['question']\n",
    "contexts = dataset['train']['context']\n",
    "answers = dataset['train']['answer']\n",
    "\n",
    "# Remove records where question is None\n",
    "indices_to_pop = [i for i, value in enumerate(questions) if value is None]\n",
    "indices_to_pop.sort(reverse=True)\n",
    "\n",
    "for index in indices_to_pop:\n",
    "    questions.pop(index)\n",
    "    contexts.pop(index)\n",
    "    answers.pop(index)\n",
    "\n",
    "documents = [Document(text=q, metadata={\"context\": c}) for q, c in zip(questions, contexts)]"
   ]
  },
  {
   "cell_type": "markdown",
   "metadata": {},
   "source": [
    "### Store Embeddings in Pinecone"
   ]
  },
  {
   "cell_type": "code",
   "execution_count": 8,
   "metadata": {},
   "outputs": [],
   "source": [
    "vector_store = PineconeVectorStore(\n",
    "    pinecone_index=pinecone_index,\n",
    "    add_sparse_vector=True,\n",
    ")\n",
    "\n",
    "storage_context = StorageContext.from_defaults(vector_store=vector_store)\n",
    "service_context = ServiceContext.from_defaults(llm=llm, embed_model=\"local:WhereIsAI/UAE-Large-V1\", chunk_size=2048)\n",
    "\n",
    "# To initially load document embeddings to Pinecone index\n",
    "# index = VectorStoreIndex.from_documents(\n",
    "#     documents, storage_context=storage_context, service_context=service_context\n",
    "# )\n",
    "\n",
    "# Create index without loading in any additional embeddings\n",
    "index = VectorStoreIndex.from_documents(\n",
    "    [], storage_context=storage_context, service_context=service_context\n",
    ")\n",
    "\n",
    "query_engine = index.as_query_engine()"
   ]
  },
  {
   "cell_type": "markdown",
   "metadata": {},
   "source": [
    "## Document Retrieval"
   ]
  },
  {
   "cell_type": "code",
   "execution_count": 9,
   "metadata": {},
   "outputs": [
    {
     "name": "stdout",
     "output_type": "stream",
     "text": [
      "Ann Marie gave the author the pasta salad recipe.\n"
     ]
    }
   ],
   "source": [
    "response = query_engine.query(\"Who gave the author the pasta salad recipe?\")\n",
    "# response = query_engine.query(\"What are some of the features of Fabiana Filippi's shirts and blouses?\")\n",
    "print(response.response)"
   ]
  },
  {
   "cell_type": "code",
   "execution_count": 10,
   "metadata": {},
   "outputs": [
    {
     "name": "stdout",
     "output_type": "stream",
     "text": [
      "index: 1345\n",
      "Who gave the author the pasta salad recipe?\n",
      "Ann Marie gave the author the pasta salad recipe.\n"
     ]
    }
   ],
   "source": [
    "rand_num = random.randrange(len(questions))\n",
    "rand_num = 1345\n",
    "print(f\"index: {rand_num}\")\n",
    "print(questions[rand_num])\n",
    "# print(contexts[rand_num])\n",
    "print(answers[rand_num])"
   ]
  },
  {
   "cell_type": "code",
   "execution_count": null,
   "metadata": {},
   "outputs": [],
   "source": [
    "# Other areas for improvement on RAGs,\n",
    "# Embed the context instead of questions\n",
    "# Deploy using TGIF and handle it in a basic front end (Next JS with a simple simple read out and search box)\n",
    "# Just use Postman for API showing and streaming. How to do that with FastAPI app"
   ]
  }
 ],
 "metadata": {
  "kernelspec": {
   "display_name": "venv",
   "language": "python",
   "name": "python3"
  },
  "language_info": {
   "codemirror_mode": {
    "name": "ipython",
    "version": 3
   },
   "file_extension": ".py",
   "mimetype": "text/x-python",
   "name": "python",
   "nbconvert_exporter": "python",
   "pygments_lexer": "ipython3",
   "version": "3.11.6"
  }
 },
 "nbformat": 4,
 "nbformat_minor": 2
}
